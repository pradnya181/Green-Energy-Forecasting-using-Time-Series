{
 "cells": [
  {
   "cell_type": "markdown",
   "id": "a668b159",
   "metadata": {},
   "source": [
    "# Problem Statement\n",
    "\n",
    "Your task at hand is to build a machine learning/deep learning approach to forecast the total energy demand on an hourly basis for the next 3 years based on past trends."
   ]
  },
  {
   "cell_type": "markdown",
   "id": "0a6873ea",
   "metadata": {},
   "source": [
    "You are provided with total energy demand on an hourly basis for the past 9 years from March 2008 to Dec 2018 in the training set. You need to forecast the total energy demand on an hourly basis for the next 3 years from 2019 to 2021 in the test set."
   ]
  },
  {
   "cell_type": "markdown",
   "id": "9647c77e",
   "metadata": {},
   "source": [
    "# Read Dataset & import libraries"
   ]
  },
  {
   "cell_type": "code",
   "execution_count": 1,
   "id": "7f5731e2",
   "metadata": {},
   "outputs": [],
   "source": [
    "import pandas as pd\n",
    "import numpy as np"
   ]
  },
  {
   "cell_type": "code",
   "execution_count": 2,
   "id": "4bf5052a",
   "metadata": {},
   "outputs": [],
   "source": [
    "from warnings import filterwarnings\n",
    "filterwarnings(\"ignore\")"
   ]
  },
  {
   "cell_type": "code",
   "execution_count": 3,
   "id": "99cb1dbe",
   "metadata": {},
   "outputs": [],
   "source": [
    "A = pd.read_csv(\"C:/Users/I A T Laptop L.L.C/Desktop/Green_Energy/train_IxoE5JN.csv\")\n",
    "B = pd.read_csv(\"C:/Users/I A T Laptop L.L.C/Desktop/Green_Energy/test_WudNWDM.csv\")"
   ]
  },
  {
   "cell_type": "markdown",
   "id": "a894ef2e",
   "metadata": {},
   "source": [
    "# Data Previewing"
   ]
  },
  {
   "cell_type": "code",
   "execution_count": 4,
   "id": "f51ebd34",
   "metadata": {},
   "outputs": [
    {
     "data": {
      "text/html": [
       "<div>\n",
       "<style scoped>\n",
       "    .dataframe tbody tr th:only-of-type {\n",
       "        vertical-align: middle;\n",
       "    }\n",
       "\n",
       "    .dataframe tbody tr th {\n",
       "        vertical-align: top;\n",
       "    }\n",
       "\n",
       "    .dataframe thead th {\n",
       "        text-align: right;\n",
       "    }\n",
       "</style>\n",
       "<table border=\"1\" class=\"dataframe\">\n",
       "  <thead>\n",
       "    <tr style=\"text-align: right;\">\n",
       "      <th></th>\n",
       "      <th>row_id</th>\n",
       "      <th>datetime</th>\n",
       "      <th>energy</th>\n",
       "    </tr>\n",
       "  </thead>\n",
       "  <tbody>\n",
       "    <tr>\n",
       "      <th>0</th>\n",
       "      <td>1</td>\n",
       "      <td>2008-03-01 00:00:00</td>\n",
       "      <td>1259.985563</td>\n",
       "    </tr>\n",
       "    <tr>\n",
       "      <th>1</th>\n",
       "      <td>2</td>\n",
       "      <td>2008-03-01 01:00:00</td>\n",
       "      <td>1095.541500</td>\n",
       "    </tr>\n",
       "    <tr>\n",
       "      <th>2</th>\n",
       "      <td>3</td>\n",
       "      <td>2008-03-01 02:00:00</td>\n",
       "      <td>1056.247500</td>\n",
       "    </tr>\n",
       "    <tr>\n",
       "      <th>3</th>\n",
       "      <td>4</td>\n",
       "      <td>2008-03-01 03:00:00</td>\n",
       "      <td>1034.742000</td>\n",
       "    </tr>\n",
       "    <tr>\n",
       "      <th>4</th>\n",
       "      <td>5</td>\n",
       "      <td>2008-03-01 04:00:00</td>\n",
       "      <td>1026.334500</td>\n",
       "    </tr>\n",
       "  </tbody>\n",
       "</table>\n",
       "</div>"
      ],
      "text/plain": [
       "   row_id             datetime       energy\n",
       "0       1  2008-03-01 00:00:00  1259.985563\n",
       "1       2  2008-03-01 01:00:00  1095.541500\n",
       "2       3  2008-03-01 02:00:00  1056.247500\n",
       "3       4  2008-03-01 03:00:00  1034.742000\n",
       "4       5  2008-03-01 04:00:00  1026.334500"
      ]
     },
     "execution_count": 4,
     "metadata": {},
     "output_type": "execute_result"
    }
   ],
   "source": [
    "A.head()"
   ]
  },
  {
   "cell_type": "code",
   "execution_count": 5,
   "id": "79d877c4",
   "metadata": {},
   "outputs": [
    {
     "data": {
      "text/html": [
       "<div>\n",
       "<style scoped>\n",
       "    .dataframe tbody tr th:only-of-type {\n",
       "        vertical-align: middle;\n",
       "    }\n",
       "\n",
       "    .dataframe tbody tr th {\n",
       "        vertical-align: top;\n",
       "    }\n",
       "\n",
       "    .dataframe thead th {\n",
       "        text-align: right;\n",
       "    }\n",
       "</style>\n",
       "<table border=\"1\" class=\"dataframe\">\n",
       "  <thead>\n",
       "    <tr style=\"text-align: right;\">\n",
       "      <th></th>\n",
       "      <th>row_id</th>\n",
       "      <th>datetime</th>\n",
       "      <th>energy</th>\n",
       "    </tr>\n",
       "  </thead>\n",
       "  <tbody>\n",
       "    <tr>\n",
       "      <th>94987</th>\n",
       "      <td>94988</td>\n",
       "      <td>2018-12-31 19:00:00</td>\n",
       "      <td>2528.4468</td>\n",
       "    </tr>\n",
       "    <tr>\n",
       "      <th>94988</th>\n",
       "      <td>94989</td>\n",
       "      <td>2018-12-31 20:00:00</td>\n",
       "      <td>2461.8836</td>\n",
       "    </tr>\n",
       "    <tr>\n",
       "      <th>94989</th>\n",
       "      <td>94990</td>\n",
       "      <td>2018-12-31 21:00:00</td>\n",
       "      <td>2365.9944</td>\n",
       "    </tr>\n",
       "    <tr>\n",
       "      <th>94990</th>\n",
       "      <td>94991</td>\n",
       "      <td>2018-12-31 22:00:00</td>\n",
       "      <td>2342.9428</td>\n",
       "    </tr>\n",
       "    <tr>\n",
       "      <th>94991</th>\n",
       "      <td>94992</td>\n",
       "      <td>2018-12-31 23:00:00</td>\n",
       "      <td>2180.2176</td>\n",
       "    </tr>\n",
       "  </tbody>\n",
       "</table>\n",
       "</div>"
      ],
      "text/plain": [
       "       row_id             datetime     energy\n",
       "94987   94988  2018-12-31 19:00:00  2528.4468\n",
       "94988   94989  2018-12-31 20:00:00  2461.8836\n",
       "94989   94990  2018-12-31 21:00:00  2365.9944\n",
       "94990   94991  2018-12-31 22:00:00  2342.9428\n",
       "94991   94992  2018-12-31 23:00:00  2180.2176"
      ]
     },
     "execution_count": 5,
     "metadata": {},
     "output_type": "execute_result"
    }
   ],
   "source": [
    "A.tail(5)"
   ]
  },
  {
   "cell_type": "markdown",
   "id": "70b3742b",
   "metadata": {},
   "source": [
    "# Datetime column to index convercsion"
   ]
  },
  {
   "cell_type": "code",
   "execution_count": 6,
   "id": "5a7aa992",
   "metadata": {},
   "outputs": [
    {
     "data": {
      "text/plain": [
       "0       2008-03-01 00:00:00\n",
       "1       2008-03-01 01:00:00\n",
       "2       2008-03-01 02:00:00\n",
       "3       2008-03-01 03:00:00\n",
       "4       2008-03-01 04:00:00\n",
       "                ...        \n",
       "94987   2018-12-31 19:00:00\n",
       "94988   2018-12-31 20:00:00\n",
       "94989   2018-12-31 21:00:00\n",
       "94990   2018-12-31 22:00:00\n",
       "94991   2018-12-31 23:00:00\n",
       "Name: datetime, Length: 94992, dtype: datetime64[ns]"
      ]
     },
     "execution_count": 6,
     "metadata": {},
     "output_type": "execute_result"
    }
   ],
   "source": [
    "A.datetime = pd.to_datetime(A.datetime)\n",
    "A.datetime"
   ]
  },
  {
   "cell_type": "code",
   "execution_count": 7,
   "id": "b5b29af8",
   "metadata": {},
   "outputs": [
    {
     "data": {
      "text/html": [
       "<div>\n",
       "<style scoped>\n",
       "    .dataframe tbody tr th:only-of-type {\n",
       "        vertical-align: middle;\n",
       "    }\n",
       "\n",
       "    .dataframe tbody tr th {\n",
       "        vertical-align: top;\n",
       "    }\n",
       "\n",
       "    .dataframe thead th {\n",
       "        text-align: right;\n",
       "    }\n",
       "</style>\n",
       "<table border=\"1\" class=\"dataframe\">\n",
       "  <thead>\n",
       "    <tr style=\"text-align: right;\">\n",
       "      <th></th>\n",
       "      <th>row_id</th>\n",
       "      <th>datetime</th>\n",
       "      <th>energy</th>\n",
       "    </tr>\n",
       "  </thead>\n",
       "  <tbody>\n",
       "    <tr>\n",
       "      <th>0</th>\n",
       "      <td>1</td>\n",
       "      <td>2008-03-01 00:00:00</td>\n",
       "      <td>1259.985563</td>\n",
       "    </tr>\n",
       "    <tr>\n",
       "      <th>1</th>\n",
       "      <td>2</td>\n",
       "      <td>2008-03-01 01:00:00</td>\n",
       "      <td>1095.541500</td>\n",
       "    </tr>\n",
       "    <tr>\n",
       "      <th>2</th>\n",
       "      <td>3</td>\n",
       "      <td>2008-03-01 02:00:00</td>\n",
       "      <td>1056.247500</td>\n",
       "    </tr>\n",
       "    <tr>\n",
       "      <th>3</th>\n",
       "      <td>4</td>\n",
       "      <td>2008-03-01 03:00:00</td>\n",
       "      <td>1034.742000</td>\n",
       "    </tr>\n",
       "    <tr>\n",
       "      <th>4</th>\n",
       "      <td>5</td>\n",
       "      <td>2008-03-01 04:00:00</td>\n",
       "      <td>1026.334500</td>\n",
       "    </tr>\n",
       "  </tbody>\n",
       "</table>\n",
       "</div>"
      ],
      "text/plain": [
       "   row_id            datetime       energy\n",
       "0       1 2008-03-01 00:00:00  1259.985563\n",
       "1       2 2008-03-01 01:00:00  1095.541500\n",
       "2       3 2008-03-01 02:00:00  1056.247500\n",
       "3       4 2008-03-01 03:00:00  1034.742000\n",
       "4       5 2008-03-01 04:00:00  1026.334500"
      ]
     },
     "execution_count": 7,
     "metadata": {},
     "output_type": "execute_result"
    }
   ],
   "source": [
    "A.head(5)"
   ]
  },
  {
   "cell_type": "code",
   "execution_count": 8,
   "id": "b3de249c",
   "metadata": {},
   "outputs": [],
   "source": [
    "A.index = A.datetime"
   ]
  },
  {
   "cell_type": "code",
   "execution_count": 9,
   "id": "af3b10de",
   "metadata": {},
   "outputs": [
    {
     "data": {
      "text/html": [
       "<div>\n",
       "<style scoped>\n",
       "    .dataframe tbody tr th:only-of-type {\n",
       "        vertical-align: middle;\n",
       "    }\n",
       "\n",
       "    .dataframe tbody tr th {\n",
       "        vertical-align: top;\n",
       "    }\n",
       "\n",
       "    .dataframe thead th {\n",
       "        text-align: right;\n",
       "    }\n",
       "</style>\n",
       "<table border=\"1\" class=\"dataframe\">\n",
       "  <thead>\n",
       "    <tr style=\"text-align: right;\">\n",
       "      <th></th>\n",
       "      <th>row_id</th>\n",
       "      <th>datetime</th>\n",
       "      <th>energy</th>\n",
       "    </tr>\n",
       "    <tr>\n",
       "      <th>datetime</th>\n",
       "      <th></th>\n",
       "      <th></th>\n",
       "      <th></th>\n",
       "    </tr>\n",
       "  </thead>\n",
       "  <tbody>\n",
       "    <tr>\n",
       "      <th>2008-03-01 00:00:00</th>\n",
       "      <td>1</td>\n",
       "      <td>2008-03-01 00:00:00</td>\n",
       "      <td>1259.985563</td>\n",
       "    </tr>\n",
       "    <tr>\n",
       "      <th>2008-03-01 01:00:00</th>\n",
       "      <td>2</td>\n",
       "      <td>2008-03-01 01:00:00</td>\n",
       "      <td>1095.541500</td>\n",
       "    </tr>\n",
       "    <tr>\n",
       "      <th>2008-03-01 02:00:00</th>\n",
       "      <td>3</td>\n",
       "      <td>2008-03-01 02:00:00</td>\n",
       "      <td>1056.247500</td>\n",
       "    </tr>\n",
       "  </tbody>\n",
       "</table>\n",
       "</div>"
      ],
      "text/plain": [
       "                     row_id            datetime       energy\n",
       "datetime                                                    \n",
       "2008-03-01 00:00:00       1 2008-03-01 00:00:00  1259.985563\n",
       "2008-03-01 01:00:00       2 2008-03-01 01:00:00  1095.541500\n",
       "2008-03-01 02:00:00       3 2008-03-01 02:00:00  1056.247500"
      ]
     },
     "execution_count": 9,
     "metadata": {},
     "output_type": "execute_result"
    }
   ],
   "source": [
    "A.head(3)"
   ]
  },
  {
   "cell_type": "code",
   "execution_count": 10,
   "id": "cbb10658",
   "metadata": {},
   "outputs": [
    {
     "data": {
      "text/html": [
       "<div>\n",
       "<style scoped>\n",
       "    .dataframe tbody tr th:only-of-type {\n",
       "        vertical-align: middle;\n",
       "    }\n",
       "\n",
       "    .dataframe tbody tr th {\n",
       "        vertical-align: top;\n",
       "    }\n",
       "\n",
       "    .dataframe thead th {\n",
       "        text-align: right;\n",
       "    }\n",
       "</style>\n",
       "<table border=\"1\" class=\"dataframe\">\n",
       "  <thead>\n",
       "    <tr style=\"text-align: right;\">\n",
       "      <th></th>\n",
       "      <th>row_id</th>\n",
       "      <th>energy</th>\n",
       "    </tr>\n",
       "    <tr>\n",
       "      <th>datetime</th>\n",
       "      <th></th>\n",
       "      <th></th>\n",
       "    </tr>\n",
       "  </thead>\n",
       "  <tbody>\n",
       "    <tr>\n",
       "      <th>2008-03-01 00:00:00</th>\n",
       "      <td>1</td>\n",
       "      <td>1259.985563</td>\n",
       "    </tr>\n",
       "    <tr>\n",
       "      <th>2008-03-01 01:00:00</th>\n",
       "      <td>2</td>\n",
       "      <td>1095.541500</td>\n",
       "    </tr>\n",
       "    <tr>\n",
       "      <th>2008-03-01 02:00:00</th>\n",
       "      <td>3</td>\n",
       "      <td>1056.247500</td>\n",
       "    </tr>\n",
       "  </tbody>\n",
       "</table>\n",
       "</div>"
      ],
      "text/plain": [
       "                     row_id       energy\n",
       "datetime                                \n",
       "2008-03-01 00:00:00       1  1259.985563\n",
       "2008-03-01 01:00:00       2  1095.541500\n",
       "2008-03-01 02:00:00       3  1056.247500"
      ]
     },
     "execution_count": 10,
     "metadata": {},
     "output_type": "execute_result"
    }
   ],
   "source": [
    "A = A.drop(labels=[\"datetime\"],axis=1)\n",
    "A.head(3)"
   ]
  },
  {
   "cell_type": "code",
   "execution_count": 11,
   "id": "16ecbfa0",
   "metadata": {},
   "outputs": [],
   "source": [
    "A = A.drop(labels=[\"row_id\"],axis=1)\n",
    "#A.columns = [\"datetime\",\"energy\"]"
   ]
  },
  {
   "cell_type": "code",
   "execution_count": 12,
   "id": "67352e5d",
   "metadata": {},
   "outputs": [
    {
     "data": {
      "text/html": [
       "<div>\n",
       "<style scoped>\n",
       "    .dataframe tbody tr th:only-of-type {\n",
       "        vertical-align: middle;\n",
       "    }\n",
       "\n",
       "    .dataframe tbody tr th {\n",
       "        vertical-align: top;\n",
       "    }\n",
       "\n",
       "    .dataframe thead th {\n",
       "        text-align: right;\n",
       "    }\n",
       "</style>\n",
       "<table border=\"1\" class=\"dataframe\">\n",
       "  <thead>\n",
       "    <tr style=\"text-align: right;\">\n",
       "      <th></th>\n",
       "      <th>energy</th>\n",
       "    </tr>\n",
       "    <tr>\n",
       "      <th>datetime</th>\n",
       "      <th></th>\n",
       "    </tr>\n",
       "  </thead>\n",
       "  <tbody>\n",
       "    <tr>\n",
       "      <th>2008-03-01 00:00:00</th>\n",
       "      <td>1259.985563</td>\n",
       "    </tr>\n",
       "    <tr>\n",
       "      <th>2008-03-01 01:00:00</th>\n",
       "      <td>1095.541500</td>\n",
       "    </tr>\n",
       "    <tr>\n",
       "      <th>2008-03-01 02:00:00</th>\n",
       "      <td>1056.247500</td>\n",
       "    </tr>\n",
       "  </tbody>\n",
       "</table>\n",
       "</div>"
      ],
      "text/plain": [
       "                          energy\n",
       "datetime                        \n",
       "2008-03-01 00:00:00  1259.985563\n",
       "2008-03-01 01:00:00  1095.541500\n",
       "2008-03-01 02:00:00  1056.247500"
      ]
     },
     "execution_count": 12,
     "metadata": {},
     "output_type": "execute_result"
    }
   ],
   "source": [
    "A.head(3) # Made index as a dimension of time"
   ]
  },
  {
   "cell_type": "markdown",
   "id": "9eca7b16",
   "metadata": {},
   "source": [
    "# Misssing data treatment"
   ]
  },
  {
   "cell_type": "code",
   "execution_count": 13,
   "id": "f7e1b6e8",
   "metadata": {},
   "outputs": [
    {
     "data": {
      "text/plain": [
       "energy    1900\n",
       "dtype: int64"
      ]
     },
     "execution_count": 13,
     "metadata": {},
     "output_type": "execute_result"
    }
   ],
   "source": [
    "A.isna().sum()"
   ]
  },
  {
   "cell_type": "code",
   "execution_count": 14,
   "id": "dfd69e0a",
   "metadata": {},
   "outputs": [],
   "source": [
    "X = A.energy.mean()\n",
    "A.energy = A.energy.fillna(X)"
   ]
  },
  {
   "cell_type": "code",
   "execution_count": 15,
   "id": "8050f083",
   "metadata": {},
   "outputs": [
    {
     "data": {
      "text/plain": [
       "energy    0\n",
       "dtype: int64"
      ]
     },
     "execution_count": 15,
     "metadata": {},
     "output_type": "execute_result"
    }
   ],
   "source": [
    "A.isna().sum()"
   ]
  },
  {
   "cell_type": "code",
   "execution_count": 16,
   "id": "009cedad",
   "metadata": {},
   "outputs": [
    {
     "data": {
      "text/html": [
       "<div>\n",
       "<style scoped>\n",
       "    .dataframe tbody tr th:only-of-type {\n",
       "        vertical-align: middle;\n",
       "    }\n",
       "\n",
       "    .dataframe tbody tr th {\n",
       "        vertical-align: top;\n",
       "    }\n",
       "\n",
       "    .dataframe thead th {\n",
       "        text-align: right;\n",
       "    }\n",
       "</style>\n",
       "<table border=\"1\" class=\"dataframe\">\n",
       "  <thead>\n",
       "    <tr style=\"text-align: right;\">\n",
       "      <th></th>\n",
       "      <th>energy</th>\n",
       "    </tr>\n",
       "    <tr>\n",
       "      <th>datetime</th>\n",
       "      <th></th>\n",
       "    </tr>\n",
       "  </thead>\n",
       "  <tbody>\n",
       "    <tr>\n",
       "      <th>2008-03-01 00:00:00</th>\n",
       "      <td>1259.985563</td>\n",
       "    </tr>\n",
       "    <tr>\n",
       "      <th>2008-03-01 01:00:00</th>\n",
       "      <td>1095.541500</td>\n",
       "    </tr>\n",
       "    <tr>\n",
       "      <th>2008-03-01 02:00:00</th>\n",
       "      <td>1056.247500</td>\n",
       "    </tr>\n",
       "  </tbody>\n",
       "</table>\n",
       "</div>"
      ],
      "text/plain": [
       "                          energy\n",
       "datetime                        \n",
       "2008-03-01 00:00:00  1259.985563\n",
       "2008-03-01 01:00:00  1095.541500\n",
       "2008-03-01 02:00:00  1056.247500"
      ]
     },
     "execution_count": 16,
     "metadata": {},
     "output_type": "execute_result"
    }
   ],
   "source": [
    "A.head(3)"
   ]
  },
  {
   "cell_type": "markdown",
   "id": "6c40a8a3",
   "metadata": {},
   "source": [
    "# Plot Time Series"
   ]
  },
  {
   "cell_type": "code",
   "execution_count": 17,
   "id": "c4c8815e",
   "metadata": {},
   "outputs": [],
   "source": [
    "import matplotlib.pyplot as plt"
   ]
  },
  {
   "cell_type": "code",
   "execution_count": 18,
   "id": "a76b57c6",
   "metadata": {},
   "outputs": [
    {
     "data": {
      "text/plain": [
       "<AxesSubplot:xlabel='datetime'>"
      ]
     },
     "execution_count": 18,
     "metadata": {},
     "output_type": "execute_result"
    },
    {
     "data": {
      "image/png": "[encoded data removed]",
      "text/plain": [
       "<Figure size 432x288 with 1 Axes>"
      ]
     },
     "metadata": {
      "needs_background": "light"
     },
     "output_type": "display_data"
    }
   ],
   "source": [
    "A.plot()"
   ]
  },
  {
   "cell_type": "markdown",
   "id": "2c5a01bc",
   "metadata": {},
   "source": [
    "# Decomposition"
   ]
  },
  {
   "cell_type": "code",
   "execution_count": 19,
   "id": "a9916f08",
   "metadata": {},
   "outputs": [],
   "source": [
    "from statsmodels.tsa.seasonal import seasonal_decompose\n",
    "Q = seasonal_decompose(A,model='multiplicative')"
   ]
  },
  {
   "cell_type": "code",
   "execution_count": 20,
   "id": "ebd27969",
   "metadata": {},
   "outputs": [],
   "source": [
    "original= Q.observed"
   ]
  },
  {
   "cell_type": "code",
   "execution_count": 21,
   "id": "69465b69",
   "metadata": {},
   "outputs": [],
   "source": [
    "trend = Q.trend"
   ]
  },
  {
   "cell_type": "code",
   "execution_count": 22,
   "id": "1d82773c",
   "metadata": {},
   "outputs": [],
   "source": [
    "seasonal =Q.seasonal"
   ]
  },
  {
   "cell_type": "code",
   "execution_count": 23,
   "id": "645f6ec1",
   "metadata": {},
   "outputs": [
    {
     "data": {
      "text/plain": [
       "datetime\n",
       "2008-03-01 00:00:00    0.948146\n",
       "2008-03-01 01:00:00    0.899752\n",
       "2008-03-01 02:00:00    0.870764\n",
       "2008-03-01 03:00:00    0.852856\n",
       "2008-03-01 04:00:00    0.847904\n",
       "                         ...   \n",
       "2018-12-31 19:00:00    1.084177\n",
       "2018-12-31 20:00:00    1.081826\n",
       "2018-12-31 21:00:00    1.080417\n",
       "2018-12-31 22:00:00    1.063714\n",
       "2018-12-31 23:00:00    1.012560\n",
       "Name: seasonal, Length: 94992, dtype: float64"
      ]
     },
     "execution_count": 23,
     "metadata": {},
     "output_type": "execute_result"
    }
   ],
   "source": [
    "seasonal"
   ]
  },
  {
   "cell_type": "code",
   "execution_count": 24,
   "id": "5af6e008",
   "metadata": {},
   "outputs": [],
   "source": [
    "Error = Q.resid"
   ]
  },
  {
   "cell_type": "markdown",
   "id": "72818371",
   "metadata": {},
   "source": [
    "# Plotting"
   ]
  },
  {
   "cell_type": "code",
   "execution_count": 25,
   "id": "bef72f4a",
   "metadata": {},
   "outputs": [
    {
     "data": {
      "text/plain": [
       "<AxesSubplot:xlabel='datetime'>"
      ]
     },
     "execution_count": 25,
     "metadata": {},
     "output_type": "execute_result"
    },
    {
     "data": {
      "image/png": "[encoded data removed]",
      "text/plain": [
       "<Figure size 720x360 with 4 Axes>"
      ]
     },
     "metadata": {
      "needs_background": "light"
     },
     "output_type": "display_data"
    }
   ],
   "source": [
    "plt.figure(figsize=(10,5))\n",
    "plt.subplot(2,2,1)\n",
    "original.plot()\n",
    "plt.subplot(2,2,2)\n",
    "trend.plot()\n",
    "plt.subplot(2,2,3)\n",
    "seasonal.plot()\n",
    "plt.subplot(2,2,4)\n",
    "Error.plot()"
   ]
  },
  {
   "cell_type": "code",
   "execution_count": 26,
   "id": "3f792035",
   "metadata": {},
   "outputs": [
    {
     "data": {
      "image/png": "[encoded data removed]",
      "text/plain": [
       "<Figure size 432x288 with 4 Axes>"
      ]
     },
     "execution_count": 26,
     "metadata": {},
     "output_type": "execute_result"
    },
    {
     "data": {
      "image/png": "[encoded data removed]",
      "text/plain": [
       "<Figure size 432x288 with 4 Axes>"
      ]
     },
     "metadata": {
      "needs_background": "light"
     },
     "output_type": "display_data"
    }
   ],
   "source": [
    "Q.plot()"
   ]
  },
  {
   "cell_type": "code",
   "execution_count": 27,
   "id": "eb446dfd",
   "metadata": {},
   "outputs": [
    {
     "data": {
      "text/plain": [
       "<AxesSubplot:xlabel='datetime'>"
      ]
     },
     "execution_count": 27,
     "metadata": {},
     "output_type": "execute_result"
    },
    {
     "data": {
      "image/png": "[encoded data removed]",
      "text/plain": [
       "<Figure size 432x288 with 1 Axes>"
      ]
     },
     "metadata": {
      "needs_background": "light"
     },
     "output_type": "display_data"
    }
   ],
   "source": [
    "seasonal.plot()"
   ]
  },
  {
   "cell_type": "markdown",
   "id": "6c01a3ae",
   "metadata": {},
   "source": [
    "# Seasonal decomposition plots yearly,monthly,Weekly,daily"
   ]
  },
  {
   "cell_type": "code",
   "execution_count": 28,
   "id": "ce0c1e01",
   "metadata": {},
   "outputs": [],
   "source": [
    "seasonal_1years= seasonal.iloc[:8760:] # 365 days x 24 hours = 8760 hours i.e for 1 year plot"
   ]
  },
  {
   "cell_type": "code",
   "execution_count": 29,
   "id": "9e12bc70",
   "metadata": {},
   "outputs": [
    {
     "data": {
      "text/plain": [
       "<AxesSubplot:xlabel='datetime'>"
      ]
     },
     "execution_count": 29,
     "metadata": {},
     "output_type": "execute_result"
    },
    {
     "data": {
      "image/png": "[encoded data removed]",
      "text/plain": [
       "<Figure size 432x288 with 1 Axes>"
      ]
     },
     "metadata": {
      "needs_background": "light"
     },
     "output_type": "display_data"
    }
   ],
   "source": [
    "seasonal_1years.plot()"
   ]
  },
  {
   "cell_type": "code",
   "execution_count": 30,
   "id": "7c70302d",
   "metadata": {},
   "outputs": [],
   "source": [
    "seasonal_1month= seasonal.iloc[:730:] # 8760 days / 12 months = 730 hours i.e for 1 month plot"
   ]
  },
  {
   "cell_type": "code",
   "execution_count": 31,
   "id": "f960dc0b",
   "metadata": {},
   "outputs": [
    {
     "data": {
      "text/plain": [
       "<AxesSubplot:xlabel='datetime'>"
      ]
     },
     "execution_count": 31,
     "metadata": {},
     "output_type": "execute_result"
    },
    {
     "data": {
      "image/png": "[encoded data removed]",
      "text/plain": [
       "<Figure size 432x288 with 1 Axes>"
      ]
     },
     "metadata": {
      "needs_background": "light"
     },
     "output_type": "display_data"
    }
   ],
   "source": [
    "seasonal_1month.plot()"
   ]
  },
  {
   "cell_type": "code",
   "execution_count": 32,
   "id": "2b40d73a",
   "metadata": {},
   "outputs": [],
   "source": [
    "seasonal_1day= seasonal.iloc[:26:] # 730 hours / 30 days = 24 hours i.e for 1 day plot"
   ]
  },
  {
   "cell_type": "code",
   "execution_count": 33,
   "id": "2036f936",
   "metadata": {},
   "outputs": [
    {
     "data": {
      "text/plain": [
       "<AxesSubplot:xlabel='datetime'>"
      ]
     },
     "execution_count": 33,
     "metadata": {},
     "output_type": "execute_result"
    },
    {
     "data": {
      "image/png": "[encoded data removed]",
      "text/plain": [
       "<Figure size 432x288 with 1 Axes>"
      ]
     },
     "metadata": {
      "needs_background": "light"
     },
     "output_type": "display_data"
    }
   ],
   "source": [
    "seasonal_1day.plot()"
   ]
  },
  {
   "cell_type": "code",
   "execution_count": 34,
   "id": "662c6c5f",
   "metadata": {},
   "outputs": [],
   "source": [
    "seasonal_1week= seasonal.iloc[:144:] # 24 hrsx 6 days= 144 hours i.e for 1 week plot"
   ]
  },
  {
   "cell_type": "code",
   "execution_count": 35,
   "id": "2fd20ef7",
   "metadata": {},
   "outputs": [
    {
     "data": {
      "text/plain": [
       "<AxesSubplot:xlabel='datetime'>"
      ]
     },
     "execution_count": 35,
     "metadata": {},
     "output_type": "execute_result"
    },
    {
     "data": {
      "image/png": "[encoded data removed]",
      "text/plain": [
       "<Figure size 432x288 with 1 Axes>"
      ]
     },
     "metadata": {
      "needs_background": "light"
     },
     "output_type": "display_data"
    }
   ],
   "source": [
    "seasonal_1week.plot()"
   ]
  },
  {
   "cell_type": "code",
   "execution_count": 36,
   "id": "372ab85c",
   "metadata": {},
   "outputs": [
    {
     "data": {
      "text/plain": [
       "288"
      ]
     },
     "execution_count": 36,
     "metadata": {},
     "output_type": "execute_result"
    }
   ],
   "source": [
    "144+144 #2 weeks"
   ]
  },
  {
   "cell_type": "code",
   "execution_count": 37,
   "id": "1924428d",
   "metadata": {},
   "outputs": [
    {
     "data": {
      "text/plain": [
       "94704"
      ]
     },
     "execution_count": 37,
     "metadata": {},
     "output_type": "execute_result"
    }
   ],
   "source": [
    "94992-288 # for last 2 weeks in 2019"
   ]
  },
  {
   "cell_type": "code",
   "execution_count": 38,
   "id": "edaa7f3b",
   "metadata": {},
   "outputs": [
    {
     "data": {
      "image/png": "[encoded data removed]",
      "text/plain": [
       "<Figure size 432x288 with 1 Axes>"
      ]
     },
     "metadata": {
      "needs_background": "light"
     },
     "output_type": "display_data"
    }
   ],
   "source": [
    "seasonal_2019_last2weeks=seasonal.iloc[94704:94992].plot()"
   ]
  },
  {
   "cell_type": "markdown",
   "id": "b579f76b",
   "metadata": {},
   "source": [
    "# Check stationary time series using rolling mean"
   ]
  },
  {
   "cell_type": "code",
   "execution_count": 39,
   "id": "24b413e1",
   "metadata": {},
   "outputs": [],
   "source": [
    "RM = A.rolling(window=8760).mean()"
   ]
  },
  {
   "cell_type": "code",
   "execution_count": 40,
   "id": "c2c71c66",
   "metadata": {},
   "outputs": [
    {
     "data": {
      "text/plain": [
       "[<matplotlib.lines.Line2D at 0x1cd650eb850>]"
      ]
     },
     "execution_count": 40,
     "metadata": {},
     "output_type": "execute_result"
    },
    {
     "data": {
      "image/png": "[encoded data removed]",
      "text/plain": [
       "<Figure size 432x288 with 1 Axes>"
      ]
     },
     "metadata": {
      "needs_background": "light"
     },
     "output_type": "display_data"
    }
   ],
   "source": [
    "plt.plot(A,c=\"blue\")\n",
    "plt.plot(RM,c=\"red\")"
   ]
  },
  {
   "cell_type": "code",
   "execution_count": 41,
   "id": "0f9b0da5",
   "metadata": {},
   "outputs": [],
   "source": [
    "RM_2week =seasonal.iloc[94704:94992].rolling(window=8760).mean()"
   ]
  },
  {
   "cell_type": "code",
   "execution_count": 42,
   "id": "6d608d78",
   "metadata": {},
   "outputs": [
    {
     "data": {
      "text/plain": [
       "[<matplotlib.lines.Line2D at 0x1cd5b0d2160>]"
      ]
     },
     "execution_count": 42,
     "metadata": {},
     "output_type": "execute_result"
    },
    {
     "data": {
      "image/png": "[encoded data removed]",
      "text/plain": [
       "<Figure size 432x288 with 1 Axes>"
      ]
     },
     "metadata": {
      "needs_background": "light"
     },
     "output_type": "display_data"
    }
   ],
   "source": [
    "plt.plot(seasonal.iloc[94704:94992],c=\"blue\")\n",
    "plt.plot(RM_2week,c=\"red\")"
   ]
  },
  {
   "cell_type": "markdown",
   "id": "cdf58c5d",
   "metadata": {},
   "source": [
    "# Attempt 1 for stationary conversion"
   ]
  },
  {
   "cell_type": "code",
   "execution_count": 43,
   "id": "e63c12b7",
   "metadata": {},
   "outputs": [],
   "source": [
    "from numpy import log\n",
    "LG = log(A)\n",
    "LGRM = LG.rolling(window=8760).mean()"
   ]
  },
  {
   "cell_type": "code",
   "execution_count": 44,
   "id": "83915eec",
   "metadata": {},
   "outputs": [
    {
     "data": {
      "text/plain": [
       "[<matplotlib.lines.Line2D at 0x1cd5b3bb100>]"
      ]
     },
     "execution_count": 44,
     "metadata": {},
     "output_type": "execute_result"
    },
    {
     "data": {
      "image/png": "[encoded data removed]",
      "text/plain": [
       "<Figure size 432x288 with 1 Axes>"
      ]
     },
     "metadata": {
      "needs_background": "light"
     },
     "output_type": "display_data"
    }
   ],
   "source": [
    "plt.plot(LG,c=\"blue\")\n",
    "plt.plot(LGRM,c=\"red\")"
   ]
  },
  {
   "cell_type": "markdown",
   "id": "923203b0",
   "metadata": {},
   "source": [
    "# Attempt 2(square root)"
   ]
  },
  {
   "cell_type": "code",
   "execution_count": 45,
   "id": "ba238ae1",
   "metadata": {},
   "outputs": [
    {
     "data": {
      "text/plain": [
       "[<matplotlib.lines.Line2D at 0x1cd65970250>]"
      ]
     },
     "execution_count": 45,
     "metadata": {},
     "output_type": "execute_result"
    },
    {
     "data": {
      "image/png": "[encoded data removed]",
      "text/plain": [
       "<Figure size 432x288 with 1 Axes>"
      ]
     },
     "metadata": {
      "needs_background": "light"
     },
     "output_type": "display_data"
    }
   ],
   "source": [
    "from numpy import sqrt\n",
    "SR = sqrt(A)\n",
    "SRRM = SR.rolling(window=8760).mean()\n",
    "plt.plot(SR,c=\"blue\")\n",
    "plt.plot(SRRM,c=\"red\")"
   ]
  },
  {
   "cell_type": "markdown",
   "id": "7dde9982",
   "metadata": {},
   "source": [
    "# Attempt 3(log-RM(log))"
   ]
  },
  {
   "cell_type": "code",
   "execution_count": 46,
   "id": "61ada26d",
   "metadata": {},
   "outputs": [],
   "source": [
    "LG = log(A)\n",
    "LGRM = LG.rolling(window=8760).mean()\n",
    "\n",
    "diff_LG_RM = LG-LGRM\n",
    "RM_diff_LG_RM = diff_LG_RM.rolling(window=8760).mean()"
   ]
  },
  {
   "cell_type": "code",
   "execution_count": 47,
   "id": "5bc7b1b6",
   "metadata": {},
   "outputs": [
    {
     "data": {
      "text/plain": [
       "[<matplotlib.lines.Line2D at 0x1cd659d1370>]"
      ]
     },
     "execution_count": 47,
     "metadata": {},
     "output_type": "execute_result"
    },
    {
     "data": {
      "image/png": "[encoded data removed]",
      "text/plain": [
       "<Figure size 432x288 with 1 Axes>"
      ]
     },
     "metadata": {
      "needs_background": "light"
     },
     "output_type": "display_data"
    }
   ],
   "source": [
    "plt.plot(diff_LG_RM,c=\"brown\")\n",
    "plt.plot(RM_diff_LG_RM,c=\"blue\")"
   ]
  },
  {
   "cell_type": "markdown",
   "id": "873ccac7",
   "metadata": {},
   "source": [
    "# Divide Data in training and testing set"
   ]
  },
  {
   "cell_type": "code",
   "execution_count": 48,
   "id": "52b0e717",
   "metadata": {},
   "outputs": [],
   "source": [
    "T = diff_LG_RM[diff_LG_RM.energy.isna()==False] # training set T"
   ]
  },
  {
   "cell_type": "code",
   "execution_count": 49,
   "id": "7e70bcba",
   "metadata": {},
   "outputs": [
    {
     "data": {
      "text/plain": [
       "(94992, 1)"
      ]
     },
     "execution_count": 49,
     "metadata": {},
     "output_type": "execute_result"
    }
   ],
   "source": [
    "diff_LG_RM.shape"
   ]
  },
  {
   "cell_type": "code",
   "execution_count": 50,
   "id": "3a219e78",
   "metadata": {},
   "outputs": [
    {
     "data": {
      "text/plain": [
       "(86233, 1)"
      ]
     },
     "execution_count": 50,
     "metadata": {},
     "output_type": "execute_result"
    }
   ],
   "source": [
    "T.shape # total data without any missing values"
   ]
  },
  {
   "cell_type": "code",
   "execution_count": 51,
   "id": "1601c97e",
   "metadata": {},
   "outputs": [
    {
     "data": {
      "text/html": [
       "<div>\n",
       "<style scoped>\n",
       "    .dataframe tbody tr th:only-of-type {\n",
       "        vertical-align: middle;\n",
       "    }\n",
       "\n",
       "    .dataframe tbody tr th {\n",
       "        vertical-align: top;\n",
       "    }\n",
       "\n",
       "    .dataframe thead th {\n",
       "        text-align: right;\n",
       "    }\n",
       "</style>\n",
       "<table border=\"1\" class=\"dataframe\">\n",
       "  <thead>\n",
       "    <tr style=\"text-align: right;\">\n",
       "      <th></th>\n",
       "      <th>energy</th>\n",
       "    </tr>\n",
       "    <tr>\n",
       "      <th>datetime</th>\n",
       "      <th></th>\n",
       "    </tr>\n",
       "  </thead>\n",
       "  <tbody>\n",
       "    <tr>\n",
       "      <th>2009-02-28 23:00:00</th>\n",
       "      <td>-0.142947</td>\n",
       "    </tr>\n",
       "    <tr>\n",
       "      <th>2009-03-01 00:00:00</th>\n",
       "      <td>-0.213073</td>\n",
       "    </tr>\n",
       "    <tr>\n",
       "      <th>2009-03-01 01:00:00</th>\n",
       "      <td>-0.281504</td>\n",
       "    </tr>\n",
       "    <tr>\n",
       "      <th>2009-03-01 02:00:00</th>\n",
       "      <td>-0.321576</td>\n",
       "    </tr>\n",
       "    <tr>\n",
       "      <th>2009-03-01 03:00:00</th>\n",
       "      <td>-0.354591</td>\n",
       "    </tr>\n",
       "    <tr>\n",
       "      <th>...</th>\n",
       "      <td>...</td>\n",
       "    </tr>\n",
       "    <tr>\n",
       "      <th>2018-12-31 19:00:00</th>\n",
       "      <td>0.233765</td>\n",
       "    </tr>\n",
       "    <tr>\n",
       "      <th>2018-12-31 20:00:00</th>\n",
       "      <td>0.207057</td>\n",
       "    </tr>\n",
       "    <tr>\n",
       "      <th>2018-12-31 21:00:00</th>\n",
       "      <td>0.167301</td>\n",
       "    </tr>\n",
       "    <tr>\n",
       "      <th>2018-12-31 22:00:00</th>\n",
       "      <td>0.157484</td>\n",
       "    </tr>\n",
       "    <tr>\n",
       "      <th>2018-12-31 23:00:00</th>\n",
       "      <td>0.085477</td>\n",
       "    </tr>\n",
       "  </tbody>\n",
       "</table>\n",
       "<p>86233 rows × 1 columns</p>\n",
       "</div>"
      ],
      "text/plain": [
       "                       energy\n",
       "datetime                     \n",
       "2009-02-28 23:00:00 -0.142947\n",
       "2009-03-01 00:00:00 -0.213073\n",
       "2009-03-01 01:00:00 -0.281504\n",
       "2009-03-01 02:00:00 -0.321576\n",
       "2009-03-01 03:00:00 -0.354591\n",
       "...                       ...\n",
       "2018-12-31 19:00:00  0.233765\n",
       "2018-12-31 20:00:00  0.207057\n",
       "2018-12-31 21:00:00  0.167301\n",
       "2018-12-31 22:00:00  0.157484\n",
       "2018-12-31 23:00:00  0.085477\n",
       "\n",
       "[86233 rows x 1 columns]"
      ]
     },
     "execution_count": 51,
     "metadata": {},
     "output_type": "execute_result"
    }
   ],
   "source": [
    "T"
   ]
  },
  {
   "cell_type": "code",
   "execution_count": 52,
   "id": "376de5ff",
   "metadata": {},
   "outputs": [
    {
     "data": {
      "text/plain": [
       "51739.799999999996"
      ]
     },
     "execution_count": 52,
     "metadata": {},
     "output_type": "execute_result"
    }
   ],
   "source": [
    "T.shape[0]*0.6 #split of 60% for training "
   ]
  },
  {
   "cell_type": "code",
   "execution_count": 53,
   "id": "693d0c26",
   "metadata": {},
   "outputs": [],
   "source": [
    "train_data =T[0:51740]\n",
    "test_data =T[51740:]"
   ]
  },
  {
   "cell_type": "code",
   "execution_count": 54,
   "id": "508cdaef",
   "metadata": {},
   "outputs": [
    {
     "data": {
      "text/plain": [
       "(51740, 1)"
      ]
     },
     "execution_count": 54,
     "metadata": {},
     "output_type": "execute_result"
    }
   ],
   "source": [
    "train_data.shape"
   ]
  },
  {
   "cell_type": "code",
   "execution_count": 55,
   "id": "59cc4ae1",
   "metadata": {},
   "outputs": [
    {
     "data": {
      "text/plain": [
       "(34493, 1)"
      ]
     },
     "execution_count": 55,
     "metadata": {},
     "output_type": "execute_result"
    }
   ],
   "source": [
    "test_data.shape # test data"
   ]
  },
  {
   "cell_type": "code",
   "execution_count": 56,
   "id": "c977baea",
   "metadata": {},
   "outputs": [
    {
     "data": {
      "text/plain": [
       "86233"
      ]
     },
     "execution_count": 56,
     "metadata": {},
     "output_type": "execute_result"
    }
   ],
   "source": [
    "51740+34493"
   ]
  },
  {
   "cell_type": "code",
   "execution_count": 57,
   "id": "35bbe38e",
   "metadata": {},
   "outputs": [
    {
     "data": {
      "text/html": [
       "<div>\n",
       "<style scoped>\n",
       "    .dataframe tbody tr th:only-of-type {\n",
       "        vertical-align: middle;\n",
       "    }\n",
       "\n",
       "    .dataframe tbody tr th {\n",
       "        vertical-align: top;\n",
       "    }\n",
       "\n",
       "    .dataframe thead th {\n",
       "        text-align: right;\n",
       "    }\n",
       "</style>\n",
       "<table border=\"1\" class=\"dataframe\">\n",
       "  <thead>\n",
       "    <tr style=\"text-align: right;\">\n",
       "      <th></th>\n",
       "      <th>energy</th>\n",
       "    </tr>\n",
       "    <tr>\n",
       "      <th>datetime</th>\n",
       "      <th></th>\n",
       "    </tr>\n",
       "  </thead>\n",
       "  <tbody>\n",
       "    <tr>\n",
       "      <th>2015-01-24 19:00:00</th>\n",
       "      <td>0.250446</td>\n",
       "    </tr>\n",
       "    <tr>\n",
       "      <th>2015-01-24 20:00:00</th>\n",
       "      <td>0.210616</td>\n",
       "    </tr>\n",
       "    <tr>\n",
       "      <th>2015-01-24 21:00:00</th>\n",
       "      <td>0.193345</td>\n",
       "    </tr>\n",
       "    <tr>\n",
       "      <th>2015-01-24 22:00:00</th>\n",
       "      <td>0.165679</td>\n",
       "    </tr>\n",
       "    <tr>\n",
       "      <th>2015-01-24 23:00:00</th>\n",
       "      <td>0.093166</td>\n",
       "    </tr>\n",
       "    <tr>\n",
       "      <th>...</th>\n",
       "      <td>...</td>\n",
       "    </tr>\n",
       "    <tr>\n",
       "      <th>2018-12-31 19:00:00</th>\n",
       "      <td>0.233765</td>\n",
       "    </tr>\n",
       "    <tr>\n",
       "      <th>2018-12-31 20:00:00</th>\n",
       "      <td>0.207057</td>\n",
       "    </tr>\n",
       "    <tr>\n",
       "      <th>2018-12-31 21:00:00</th>\n",
       "      <td>0.167301</td>\n",
       "    </tr>\n",
       "    <tr>\n",
       "      <th>2018-12-31 22:00:00</th>\n",
       "      <td>0.157484</td>\n",
       "    </tr>\n",
       "    <tr>\n",
       "      <th>2018-12-31 23:00:00</th>\n",
       "      <td>0.085477</td>\n",
       "    </tr>\n",
       "  </tbody>\n",
       "</table>\n",
       "<p>34493 rows × 1 columns</p>\n",
       "</div>"
      ],
      "text/plain": [
       "                       energy\n",
       "datetime                     \n",
       "2015-01-24 19:00:00  0.250446\n",
       "2015-01-24 20:00:00  0.210616\n",
       "2015-01-24 21:00:00  0.193345\n",
       "2015-01-24 22:00:00  0.165679\n",
       "2015-01-24 23:00:00  0.093166\n",
       "...                       ...\n",
       "2018-12-31 19:00:00  0.233765\n",
       "2018-12-31 20:00:00  0.207057\n",
       "2018-12-31 21:00:00  0.167301\n",
       "2018-12-31 22:00:00  0.157484\n",
       "2018-12-31 23:00:00  0.085477\n",
       "\n",
       "[34493 rows x 1 columns]"
      ]
     },
     "execution_count": 57,
     "metadata": {},
     "output_type": "execute_result"
    }
   ],
   "source": [
    "test_data"
   ]
  },
  {
   "cell_type": "markdown",
   "id": "d706ec5e",
   "metadata": {},
   "source": [
    "# Create an autoregression forecasting model"
   ]
  },
  {
   "cell_type": "code",
   "execution_count": 58,
   "id": "d9573601",
   "metadata": {},
   "outputs": [
    {
     "name": "stderr",
     "output_type": "stream",
     "text": [
      "C:\\Users\\I A T Laptop L.L.C\\anaconda3\\lib\\site-packages\\statsmodels\\tsa\\base\\tsa_model.py:524: ValueWarning: No frequency information was provided, so inferred frequency H will be used.\n",
      "  warnings.warn('No frequency information was'\n"
     ]
    }
   ],
   "source": [
    "from statsmodels.tsa.ar_model import AR\n",
    "ar = AR(train_data).fit()\n",
    "\n",
    "pred = ar.predict(start=\"2015-01-24 19:00:00\",end=\"2018-12-31 23:00:00\")"
   ]
  },
  {
   "cell_type": "code",
   "execution_count": 59,
   "id": "5e3b5e0b",
   "metadata": {},
   "outputs": [
    {
     "data": {
      "text/plain": [
       "2015-01-24 19:00:00    0.265599\n",
       "2015-01-24 20:00:00    0.248449\n",
       "2015-01-24 21:00:00    0.226948\n",
       "2015-01-24 22:00:00    0.189865\n",
       "2015-01-24 23:00:00    0.122091\n",
       "                         ...   \n",
       "2018-12-31 19:00:00    0.029572\n",
       "2018-12-31 20:00:00    0.029572\n",
       "2018-12-31 21:00:00    0.029572\n",
       "2018-12-31 22:00:00    0.029572\n",
       "2018-12-31 23:00:00    0.029572\n",
       "Freq: H, Length: 34493, dtype: float64"
      ]
     },
     "execution_count": 59,
     "metadata": {},
     "output_type": "execute_result"
    }
   ],
   "source": [
    "pred"
   ]
  },
  {
   "cell_type": "code",
   "execution_count": 60,
   "id": "ee8184ec",
   "metadata": {},
   "outputs": [
    {
     "data": {
      "text/plain": [
       "2018-12-31 14:00:00    0.029572\n",
       "2018-12-31 15:00:00    0.029572\n",
       "2018-12-31 16:00:00    0.029572\n",
       "2018-12-31 17:00:00    0.029572\n",
       "2018-12-31 18:00:00    0.029572\n",
       "2018-12-31 19:00:00    0.029572\n",
       "2018-12-31 20:00:00    0.029572\n",
       "2018-12-31 21:00:00    0.029572\n",
       "2018-12-31 22:00:00    0.029572\n",
       "2018-12-31 23:00:00    0.029572\n",
       "Freq: H, dtype: float64"
      ]
     },
     "execution_count": 60,
     "metadata": {},
     "output_type": "execute_result"
    }
   ],
   "source": [
    "pred.tail(10)"
   ]
  },
  {
   "cell_type": "code",
   "execution_count": 61,
   "id": "dbf13450",
   "metadata": {},
   "outputs": [
    {
     "data": {
      "text/plain": [
       "DatetimeIndex(['2015-01-24 19:00:00', '2015-01-24 20:00:00',\n",
       "               '2015-01-24 21:00:00', '2015-01-24 22:00:00',\n",
       "               '2015-01-24 23:00:00', '2015-01-25 00:00:00',\n",
       "               '2015-01-25 01:00:00', '2015-01-25 02:00:00',\n",
       "               '2015-01-25 03:00:00', '2015-01-25 04:00:00',\n",
       "               ...\n",
       "               '2018-12-31 14:00:00', '2018-12-31 15:00:00',\n",
       "               '2018-12-31 16:00:00', '2018-12-31 17:00:00',\n",
       "               '2018-12-31 18:00:00', '2018-12-31 19:00:00',\n",
       "               '2018-12-31 20:00:00', '2018-12-31 21:00:00',\n",
       "               '2018-12-31 22:00:00', '2018-12-31 23:00:00'],\n",
       "              dtype='datetime64[ns]', length=34493, freq='H')"
      ]
     },
     "execution_count": 61,
     "metadata": {},
     "output_type": "execute_result"
    }
   ],
   "source": [
    "pred.index"
   ]
  },
  {
   "cell_type": "code",
   "execution_count": 62,
   "id": "765d9a5c",
   "metadata": {},
   "outputs": [],
   "source": [
    "LGRM_new = LGRM[LGRM.energy.isna()==False][51740:]\n",
    "Q1 = pd.DataFrame(pred)\n",
    "Q1.columns = [\"energy\"]"
   ]
  },
  {
   "cell_type": "code",
   "execution_count": 63,
   "id": "e8ffa919",
   "metadata": {},
   "outputs": [
    {
     "data": {
      "text/html": [
       "<div>\n",
       "<style scoped>\n",
       "    .dataframe tbody tr th:only-of-type {\n",
       "        vertical-align: middle;\n",
       "    }\n",
       "\n",
       "    .dataframe tbody tr th {\n",
       "        vertical-align: top;\n",
       "    }\n",
       "\n",
       "    .dataframe thead th {\n",
       "        text-align: right;\n",
       "    }\n",
       "</style>\n",
       "<table border=\"1\" class=\"dataframe\">\n",
       "  <thead>\n",
       "    <tr style=\"text-align: right;\">\n",
       "      <th></th>\n",
       "      <th>energy</th>\n",
       "    </tr>\n",
       "  </thead>\n",
       "  <tbody>\n",
       "    <tr>\n",
       "      <th>2015-01-24 19:00:00</th>\n",
       "      <td>0.265599</td>\n",
       "    </tr>\n",
       "    <tr>\n",
       "      <th>2015-01-24 20:00:00</th>\n",
       "      <td>0.248449</td>\n",
       "    </tr>\n",
       "    <tr>\n",
       "      <th>2015-01-24 21:00:00</th>\n",
       "      <td>0.226948</td>\n",
       "    </tr>\n",
       "    <tr>\n",
       "      <th>2015-01-24 22:00:00</th>\n",
       "      <td>0.189865</td>\n",
       "    </tr>\n",
       "    <tr>\n",
       "      <th>2015-01-24 23:00:00</th>\n",
       "      <td>0.122091</td>\n",
       "    </tr>\n",
       "  </tbody>\n",
       "</table>\n",
       "</div>"
      ],
      "text/plain": [
       "                       energy\n",
       "2015-01-24 19:00:00  0.265599\n",
       "2015-01-24 20:00:00  0.248449\n",
       "2015-01-24 21:00:00  0.226948\n",
       "2015-01-24 22:00:00  0.189865\n",
       "2015-01-24 23:00:00  0.122091"
      ]
     },
     "execution_count": 63,
     "metadata": {},
     "output_type": "execute_result"
    }
   ],
   "source": [
    "Q1.head()"
   ]
  },
  {
   "cell_type": "code",
   "execution_count": 64,
   "id": "628ae64c",
   "metadata": {},
   "outputs": [
    {
     "data": {
      "text/plain": [
       "(34493, 1)"
      ]
     },
     "execution_count": 64,
     "metadata": {},
     "output_type": "execute_result"
    }
   ],
   "source": [
    "Q1.shape"
   ]
  },
  {
   "cell_type": "markdown",
   "id": "179a061e",
   "metadata": {},
   "source": [
    "# Conversion of log value"
   ]
  },
  {
   "cell_type": "raw",
   "id": "e28d52d7",
   "metadata": {},
   "source": [
    "q = log(A)-RM(log(A))\n",
    "q + RM(log(A)) = log(A) \n",
    "log(A) = q + RM(log(A)) \n",
    "A = exp(q + RM(log(A)))"
   ]
  },
  {
   "cell_type": "code",
   "execution_count": 65,
   "id": "dc13f967",
   "metadata": {},
   "outputs": [],
   "source": [
    "from numpy import exp\n",
    "pred_final = exp(LGRM_new + Q1)"
   ]
  },
  {
   "cell_type": "code",
   "execution_count": 66,
   "id": "84a8fde4",
   "metadata": {},
   "outputs": [
    {
     "data": {
      "text/html": [
       "<div>\n",
       "<style scoped>\n",
       "    .dataframe tbody tr th:only-of-type {\n",
       "        vertical-align: middle;\n",
       "    }\n",
       "\n",
       "    .dataframe tbody tr th {\n",
       "        vertical-align: top;\n",
       "    }\n",
       "\n",
       "    .dataframe thead th {\n",
       "        text-align: right;\n",
       "    }\n",
       "</style>\n",
       "<table border=\"1\" class=\"dataframe\">\n",
       "  <thead>\n",
       "    <tr style=\"text-align: right;\">\n",
       "      <th></th>\n",
       "      <th>energy</th>\n",
       "    </tr>\n",
       "    <tr>\n",
       "      <th>datetime</th>\n",
       "      <th></th>\n",
       "    </tr>\n",
       "  </thead>\n",
       "  <tbody>\n",
       "    <tr>\n",
       "      <th>2015-01-24 19:00:00</th>\n",
       "      <td>2413.848095</td>\n",
       "    </tr>\n",
       "    <tr>\n",
       "      <th>2015-01-24 20:00:00</th>\n",
       "      <td>2372.871204</td>\n",
       "    </tr>\n",
       "    <tr>\n",
       "      <th>2015-01-24 21:00:00</th>\n",
       "      <td>2322.455780</td>\n",
       "    </tr>\n",
       "    <tr>\n",
       "      <th>2015-01-24 22:00:00</th>\n",
       "      <td>2237.966999</td>\n",
       "    </tr>\n",
       "    <tr>\n",
       "      <th>2015-01-24 23:00:00</th>\n",
       "      <td>2091.372988</td>\n",
       "    </tr>\n",
       "    <tr>\n",
       "      <th>...</th>\n",
       "      <td>...</td>\n",
       "    </tr>\n",
       "    <tr>\n",
       "      <th>2018-12-31 19:00:00</th>\n",
       "      <td>2061.455590</td>\n",
       "    </tr>\n",
       "    <tr>\n",
       "      <th>2018-12-31 20:00:00</th>\n",
       "      <td>2061.517206</td>\n",
       "    </tr>\n",
       "    <tr>\n",
       "      <th>2018-12-31 21:00:00</th>\n",
       "      <td>2061.572815</td>\n",
       "    </tr>\n",
       "    <tr>\n",
       "      <th>2018-12-31 22:00:00</th>\n",
       "      <td>2061.627401</td>\n",
       "    </tr>\n",
       "    <tr>\n",
       "      <th>2018-12-31 23:00:00</th>\n",
       "      <td>2061.677227</td>\n",
       "    </tr>\n",
       "  </tbody>\n",
       "</table>\n",
       "<p>34493 rows × 1 columns</p>\n",
       "</div>"
      ],
      "text/plain": [
       "                          energy\n",
       "datetime                        \n",
       "2015-01-24 19:00:00  2413.848095\n",
       "2015-01-24 20:00:00  2372.871204\n",
       "2015-01-24 21:00:00  2322.455780\n",
       "2015-01-24 22:00:00  2237.966999\n",
       "2015-01-24 23:00:00  2091.372988\n",
       "...                          ...\n",
       "2018-12-31 19:00:00  2061.455590\n",
       "2018-12-31 20:00:00  2061.517206\n",
       "2018-12-31 21:00:00  2061.572815\n",
       "2018-12-31 22:00:00  2061.627401\n",
       "2018-12-31 23:00:00  2061.677227\n",
       "\n",
       "[34493 rows x 1 columns]"
      ]
     },
     "execution_count": 66,
     "metadata": {},
     "output_type": "execute_result"
    }
   ],
   "source": [
    "pred_final"
   ]
  },
  {
   "cell_type": "code",
   "execution_count": 67,
   "id": "23410e49",
   "metadata": {},
   "outputs": [
    {
     "data": {
      "text/plain": [
       "[<matplotlib.lines.Line2D at 0x1cd6bbbde50>]"
      ]
     },
     "execution_count": 67,
     "metadata": {},
     "output_type": "execute_result"
    },
    {
     "data": {
      "image/png": "[encoded data removed]",
      "text/plain": [
       "<Figure size 432x288 with 1 Axes>"
      ]
     },
     "metadata": {
      "needs_background": "light"
     },
     "output_type": "display_data"
    }
   ],
   "source": [
    "plt.plot(A)\n",
    "plt.plot(pred_final)"
   ]
  },
  {
   "cell_type": "code",
   "execution_count": 68,
   "id": "1e1f4e0c",
   "metadata": {},
   "outputs": [
    {
     "name": "stderr",
     "output_type": "stream",
     "text": [
      "C:\\Users\\I A T Laptop L.L.C\\anaconda3\\lib\\site-packages\\statsmodels\\tsa\\base\\tsa_model.py:524: ValueWarning: No frequency information was provided, so inferred frequency H will be used.\n",
      "  warnings.warn('No frequency information was'\n"
     ]
    }
   ],
   "source": [
    "from statsmodels.tsa.ar_model import AR\n",
    "ar = AR(train_data).fit()\n",
    "pred1 = ar.predict(end=\"31-12-2021  23:00:00\")"
   ]
  },
  {
   "cell_type": "code",
   "execution_count": 69,
   "id": "39bfdcc2",
   "metadata": {},
   "outputs": [
    {
     "data": {
      "text/plain": [
       "2009-03-03 08:00:00   -0.076637\n",
       "2009-03-03 09:00:00    0.014395\n",
       "2009-03-03 10:00:00   -0.006915\n",
       "2009-03-03 11:00:00   -0.028898\n",
       "2009-03-03 12:00:00    0.027157\n",
       "                         ...   \n",
       "2021-12-31 19:00:00    0.029572\n",
       "2021-12-31 20:00:00    0.029572\n",
       "2021-12-31 21:00:00    0.029572\n",
       "2021-12-31 22:00:00    0.029572\n",
       "2021-12-31 23:00:00    0.029572\n",
       "Freq: H, Length: 112480, dtype: float64"
      ]
     },
     "execution_count": 69,
     "metadata": {},
     "output_type": "execute_result"
    }
   ],
   "source": [
    "pred1"
   ]
  },
  {
   "cell_type": "markdown",
   "id": "73de04de",
   "metadata": {},
   "source": [
    "# Prediction for 2019-2021"
   ]
  },
  {
   "cell_type": "code",
   "execution_count": 70,
   "id": "f7bf2d36",
   "metadata": {},
   "outputs": [],
   "source": [
    "T = LGRM[LGRM.energy.isna()==False]"
   ]
  },
  {
   "cell_type": "code",
   "execution_count": 71,
   "id": "d1bdac7f",
   "metadata": {},
   "outputs": [
    {
     "name": "stderr",
     "output_type": "stream",
     "text": [
      "C:\\Users\\I A T Laptop L.L.C\\anaconda3\\lib\\site-packages\\statsmodels\\tsa\\base\\tsa_model.py:524: ValueWarning: No frequency information was provided, so inferred frequency H will be used.\n",
      "  warnings.warn('No frequency information was'\n"
     ]
    }
   ],
   "source": [
    "ar = AR(T).fit()\n",
    "pred2 = ar.predict(end=\"31-12-2021  23:00:00\")"
   ]
  },
  {
   "cell_type": "code",
   "execution_count": 72,
   "id": "2d709cb4",
   "metadata": {},
   "outputs": [
    {
     "data": {
      "text/plain": [
       "2009-03-03 16:00:00    7.226139\n",
       "2009-03-03 17:00:00    7.226184\n",
       "2009-03-03 18:00:00    7.226228\n",
       "2009-03-03 19:00:00    7.226265\n",
       "2009-03-03 20:00:00    7.226300\n",
       "                         ...   \n",
       "2021-12-31 19:00:00    7.706735\n",
       "2021-12-31 20:00:00    7.706739\n",
       "2021-12-31 21:00:00    7.706743\n",
       "2021-12-31 22:00:00    7.706747\n",
       "2021-12-31 23:00:00    7.706751\n",
       "Freq: H, Length: 112472, dtype: float64"
      ]
     },
     "execution_count": 72,
     "metadata": {},
     "output_type": "execute_result"
    }
   ],
   "source": [
    "pred2"
   ]
  },
  {
   "cell_type": "code",
   "execution_count": 73,
   "id": "51420a31",
   "metadata": {},
   "outputs": [
    {
     "data": {
      "text/plain": [
       "2009-03-03 08:00:00   -0.076637\n",
       "2009-03-03 09:00:00    0.014395\n",
       "Freq: H, dtype: float64"
      ]
     },
     "execution_count": 73,
     "metadata": {},
     "output_type": "execute_result"
    }
   ],
   "source": [
    "pred1.head(2)"
   ]
  },
  {
   "cell_type": "code",
   "execution_count": 74,
   "id": "80da8596",
   "metadata": {},
   "outputs": [
    {
     "data": {
      "text/plain": [
       "2009-03-03 16:00:00    7.226139\n",
       "2009-03-03 17:00:00    7.226184\n",
       "Freq: H, dtype: float64"
      ]
     },
     "execution_count": 74,
     "metadata": {},
     "output_type": "execute_result"
    }
   ],
   "source": [
    "pred2.head(2)"
   ]
  },
  {
   "cell_type": "raw",
   "id": "62f79dd4",
   "metadata": {},
   "source": [
    "# pred2 --> RMLGA\n",
    "pred1 --> q"
   ]
  },
  {
   "cell_type": "code",
   "execution_count": 75,
   "id": "8261eb54",
   "metadata": {},
   "outputs": [],
   "source": [
    "pred1 = pred1[1:]"
   ]
  },
  {
   "cell_type": "code",
   "execution_count": 76,
   "id": "5036a493",
   "metadata": {},
   "outputs": [
    {
     "data": {
      "text/plain": [
       "2009-03-03 09:00:00    0.014395\n",
       "2009-03-03 10:00:00   -0.006915\n",
       "2009-03-03 11:00:00   -0.028898\n",
       "2009-03-03 12:00:00    0.027157\n",
       "2009-03-03 13:00:00    0.066535\n",
       "                         ...   \n",
       "2021-12-31 19:00:00    0.029572\n",
       "2021-12-31 20:00:00    0.029572\n",
       "2021-12-31 21:00:00    0.029572\n",
       "2021-12-31 22:00:00    0.029572\n",
       "2021-12-31 23:00:00    0.029572\n",
       "Freq: H, Length: 112479, dtype: float64"
      ]
     },
     "execution_count": 76,
     "metadata": {},
     "output_type": "execute_result"
    }
   ],
   "source": [
    "pred1"
   ]
  },
  {
   "cell_type": "code",
   "execution_count": 77,
   "id": "cd79b375",
   "metadata": {},
   "outputs": [
    {
     "data": {
      "text/plain": [
       "2009-03-03 16:00:00    7.226139\n",
       "2009-03-03 17:00:00    7.226184\n",
       "2009-03-03 18:00:00    7.226228\n",
       "2009-03-03 19:00:00    7.226265\n",
       "2009-03-03 20:00:00    7.226300\n",
       "                         ...   \n",
       "2021-12-31 19:00:00    7.706735\n",
       "2021-12-31 20:00:00    7.706739\n",
       "2021-12-31 21:00:00    7.706743\n",
       "2021-12-31 22:00:00    7.706747\n",
       "2021-12-31 23:00:00    7.706751\n",
       "Freq: H, Length: 112472, dtype: float64"
      ]
     },
     "execution_count": 77,
     "metadata": {},
     "output_type": "execute_result"
    }
   ],
   "source": [
    "pred2"
   ]
  },
  {
   "cell_type": "code",
   "execution_count": 78,
   "id": "ba33a992",
   "metadata": {},
   "outputs": [
    {
     "data": {
      "text/plain": [
       "(112479,)"
      ]
     },
     "execution_count": 78,
     "metadata": {},
     "output_type": "execute_result"
    }
   ],
   "source": [
    "pred1.shape"
   ]
  },
  {
   "cell_type": "code",
   "execution_count": 79,
   "id": "19204bdd",
   "metadata": {},
   "outputs": [],
   "source": [
    "final_preds= exp(pred1+pred2)"
   ]
  },
  {
   "cell_type": "code",
   "execution_count": 80,
   "id": "15df6878",
   "metadata": {},
   "outputs": [
    {
     "data": {
      "text/plain": [
       "(112479,)"
      ]
     },
     "execution_count": 80,
     "metadata": {},
     "output_type": "execute_result"
    }
   ],
   "source": [
    "final_preds.shape"
   ]
  },
  {
   "cell_type": "raw",
   "id": "c1f452a8",
   "metadata": {},
   "source": [
    "112479-94992"
   ]
  },
  {
   "cell_type": "code",
   "execution_count": 81,
   "id": "461d1a00",
   "metadata": {},
   "outputs": [
    {
     "data": {
      "text/plain": [
       "DatetimeIndex(['2019-01-01 00:00:00', '2019-01-01 01:00:00',\n",
       "               '2019-01-01 02:00:00', '2019-01-01 03:00:00',\n",
       "               '2019-01-01 04:00:00', '2019-01-01 05:00:00',\n",
       "               '2019-01-01 06:00:00', '2019-01-01 07:00:00',\n",
       "               '2019-01-01 08:00:00', '2019-01-01 09:00:00',\n",
       "               ...\n",
       "               '2021-12-31 14:00:00', '2021-12-31 15:00:00',\n",
       "               '2021-12-31 16:00:00', '2021-12-31 17:00:00',\n",
       "               '2021-12-31 18:00:00', '2021-12-31 19:00:00',\n",
       "               '2021-12-31 20:00:00', '2021-12-31 21:00:00',\n",
       "               '2021-12-31 22:00:00', '2021-12-31 23:00:00'],\n",
       "              dtype='datetime64[ns]', length=26304, freq='H')"
      ]
     },
     "execution_count": 81,
     "metadata": {},
     "output_type": "execute_result"
    }
   ],
   "source": [
    "fp =final_preds[86175:]\n",
    "fp.index"
   ]
  },
  {
   "cell_type": "code",
   "execution_count": 82,
   "id": "82c7e428",
   "metadata": {},
   "outputs": [
    {
     "data": {
      "text/plain": [
       "(26304,)"
      ]
     },
     "execution_count": 82,
     "metadata": {},
     "output_type": "execute_result"
    }
   ],
   "source": [
    "fp.shape"
   ]
  },
  {
   "cell_type": "code",
   "execution_count": 83,
   "id": "a7f306e5",
   "metadata": {},
   "outputs": [
    {
     "data": {
      "text/plain": [
       "2019-01-01 00:00:00    2061.726076\n",
       "2019-01-01 01:00:00    2061.772815\n",
       "2019-01-01 02:00:00    2061.816357\n",
       "2019-01-01 03:00:00    2061.857630\n",
       "2019-01-01 04:00:00    2061.897421\n",
       "                          ...     \n",
       "2021-12-31 19:00:00    2290.000849\n",
       "2021-12-31 20:00:00    2290.009663\n",
       "2021-12-31 21:00:00    2290.018477\n",
       "2021-12-31 22:00:00    2290.027291\n",
       "2021-12-31 23:00:00    2290.036105\n",
       "Freq: H, Length: 26304, dtype: float64"
      ]
     },
     "execution_count": 83,
     "metadata": {},
     "output_type": "execute_result"
    }
   ],
   "source": [
    "fp"
   ]
  },
  {
   "cell_type": "code",
   "execution_count": 84,
   "id": "4160eec0",
   "metadata": {},
   "outputs": [
    {
     "data": {
      "text/plain": [
       "<AxesSubplot:>"
      ]
     },
     "execution_count": 84,
     "metadata": {},
     "output_type": "execute_result"
    },
    {
     "data": {
      "image/png": "[encoded data removed]",
      "text/plain": [
       "<Figure size 432x288 with 1 Axes>"
      ]
     },
     "metadata": {
      "needs_background": "light"
     },
     "output_type": "display_data"
    }
   ],
   "source": [
    "fp.plot()"
   ]
  },
  {
   "cell_type": "code",
   "execution_count": 85,
   "id": "43167bbb",
   "metadata": {},
   "outputs": [
    {
     "data": {
      "text/plain": [
       "DatetimeIndex(['2009-03-03 09:00:00', '2009-03-03 10:00:00',\n",
       "               '2009-03-03 11:00:00', '2009-03-03 12:00:00',\n",
       "               '2009-03-03 13:00:00', '2009-03-03 14:00:00',\n",
       "               '2009-03-03 15:00:00', '2009-03-03 16:00:00',\n",
       "               '2009-03-03 17:00:00', '2009-03-03 18:00:00',\n",
       "               ...\n",
       "               '2021-12-31 14:00:00', '2021-12-31 15:00:00',\n",
       "               '2021-12-31 16:00:00', '2021-12-31 17:00:00',\n",
       "               '2021-12-31 18:00:00', '2021-12-31 19:00:00',\n",
       "               '2021-12-31 20:00:00', '2021-12-31 21:00:00',\n",
       "               '2021-12-31 22:00:00', '2021-12-31 23:00:00'],\n",
       "              dtype='datetime64[ns]', length=112479, freq='H')"
      ]
     },
     "execution_count": 85,
     "metadata": {},
     "output_type": "execute_result"
    }
   ],
   "source": [
    "final_preds.index"
   ]
  },
  {
   "cell_type": "code",
   "execution_count": 86,
   "id": "9a6d8984",
   "metadata": {},
   "outputs": [
    {
     "data": {
      "text/plain": [
       "DatetimeIndex(['2019-01-01 00:00:00', '2019-01-01 01:00:00',\n",
       "               '2019-01-01 02:00:00', '2019-01-01 03:00:00',\n",
       "               '2019-01-01 04:00:00', '2019-01-01 05:00:00',\n",
       "               '2019-01-01 06:00:00', '2019-01-01 07:00:00',\n",
       "               '2019-01-01 08:00:00', '2019-01-01 09:00:00',\n",
       "               ...\n",
       "               '2021-12-31 14:00:00', '2021-12-31 15:00:00',\n",
       "               '2021-12-31 16:00:00', '2021-12-31 17:00:00',\n",
       "               '2021-12-31 18:00:00', '2021-12-31 19:00:00',\n",
       "               '2021-12-31 20:00:00', '2021-12-31 21:00:00',\n",
       "               '2021-12-31 22:00:00', '2021-12-31 23:00:00'],\n",
       "              dtype='datetime64[ns]', length=26304, freq='H')"
      ]
     },
     "execution_count": 86,
     "metadata": {},
     "output_type": "execute_result"
    }
   ],
   "source": [
    "fp.index"
   ]
  },
  {
   "cell_type": "code",
   "execution_count": 87,
   "id": "5092ecf7",
   "metadata": {},
   "outputs": [],
   "source": [
    "df = pd.DataFrame(fp)"
   ]
  },
  {
   "cell_type": "code",
   "execution_count": 88,
   "id": "fb018e11",
   "metadata": {},
   "outputs": [],
   "source": [
    "df.columns = [[\"energy\"]]"
   ]
  },
  {
   "cell_type": "code",
   "execution_count": 89,
   "id": "131d05fe",
   "metadata": {},
   "outputs": [
    {
     "data": {
      "text/html": [
       "<div>\n",
       "<style scoped>\n",
       "    .dataframe tbody tr th:only-of-type {\n",
       "        vertical-align: middle;\n",
       "    }\n",
       "\n",
       "    .dataframe tbody tr th {\n",
       "        vertical-align: top;\n",
       "    }\n",
       "\n",
       "    .dataframe thead tr th {\n",
       "        text-align: left;\n",
       "    }\n",
       "</style>\n",
       "<table border=\"1\" class=\"dataframe\">\n",
       "  <thead>\n",
       "    <tr>\n",
       "      <th></th>\n",
       "      <th>energy</th>\n",
       "    </tr>\n",
       "  </thead>\n",
       "  <tbody>\n",
       "    <tr>\n",
       "      <th>2019-01-01 00:00:00</th>\n",
       "      <td>2061.726076</td>\n",
       "    </tr>\n",
       "    <tr>\n",
       "      <th>2019-01-01 01:00:00</th>\n",
       "      <td>2061.772815</td>\n",
       "    </tr>\n",
       "    <tr>\n",
       "      <th>2019-01-01 02:00:00</th>\n",
       "      <td>2061.816357</td>\n",
       "    </tr>\n",
       "    <tr>\n",
       "      <th>2019-01-01 03:00:00</th>\n",
       "      <td>2061.857630</td>\n",
       "    </tr>\n",
       "    <tr>\n",
       "      <th>2019-01-01 04:00:00</th>\n",
       "      <td>2061.897421</td>\n",
       "    </tr>\n",
       "    <tr>\n",
       "      <th>...</th>\n",
       "      <td>...</td>\n",
       "    </tr>\n",
       "    <tr>\n",
       "      <th>2021-12-31 19:00:00</th>\n",
       "      <td>2290.000849</td>\n",
       "    </tr>\n",
       "    <tr>\n",
       "      <th>2021-12-31 20:00:00</th>\n",
       "      <td>2290.009663</td>\n",
       "    </tr>\n",
       "    <tr>\n",
       "      <th>2021-12-31 21:00:00</th>\n",
       "      <td>2290.018477</td>\n",
       "    </tr>\n",
       "    <tr>\n",
       "      <th>2021-12-31 22:00:00</th>\n",
       "      <td>2290.027291</td>\n",
       "    </tr>\n",
       "    <tr>\n",
       "      <th>2021-12-31 23:00:00</th>\n",
       "      <td>2290.036105</td>\n",
       "    </tr>\n",
       "  </tbody>\n",
       "</table>\n",
       "<p>26304 rows × 1 columns</p>\n",
       "</div>"
      ],
      "text/plain": [
       "                          energy\n",
       "2019-01-01 00:00:00  2061.726076\n",
       "2019-01-01 01:00:00  2061.772815\n",
       "2019-01-01 02:00:00  2061.816357\n",
       "2019-01-01 03:00:00  2061.857630\n",
       "2019-01-01 04:00:00  2061.897421\n",
       "...                          ...\n",
       "2021-12-31 19:00:00  2290.000849\n",
       "2021-12-31 20:00:00  2290.009663\n",
       "2021-12-31 21:00:00  2290.018477\n",
       "2021-12-31 22:00:00  2290.027291\n",
       "2021-12-31 23:00:00  2290.036105\n",
       "\n",
       "[26304 rows x 1 columns]"
      ]
     },
     "execution_count": 89,
     "metadata": {},
     "output_type": "execute_result"
    }
   ],
   "source": [
    "df"
   ]
  },
  {
   "cell_type": "code",
   "execution_count": 90,
   "id": "a9894f69",
   "metadata": {},
   "outputs": [
    {
     "data": {
      "text/html": [
       "<div>\n",
       "<style scoped>\n",
       "    .dataframe tbody tr th:only-of-type {\n",
       "        vertical-align: middle;\n",
       "    }\n",
       "\n",
       "    .dataframe tbody tr th {\n",
       "        vertical-align: top;\n",
       "    }\n",
       "\n",
       "    .dataframe thead th {\n",
       "        text-align: right;\n",
       "    }\n",
       "</style>\n",
       "<table border=\"1\" class=\"dataframe\">\n",
       "  <thead>\n",
       "    <tr style=\"text-align: right;\">\n",
       "      <th></th>\n",
       "      <th>row_id</th>\n",
       "      <th>datetime</th>\n",
       "    </tr>\n",
       "  </thead>\n",
       "  <tbody>\n",
       "    <tr>\n",
       "      <th>0</th>\n",
       "      <td>94993</td>\n",
       "      <td>2019-01-01 00:00:00</td>\n",
       "    </tr>\n",
       "    <tr>\n",
       "      <th>1</th>\n",
       "      <td>94994</td>\n",
       "      <td>2019-01-01 01:00:00</td>\n",
       "    </tr>\n",
       "    <tr>\n",
       "      <th>2</th>\n",
       "      <td>94995</td>\n",
       "      <td>2019-01-01 02:00:00</td>\n",
       "    </tr>\n",
       "    <tr>\n",
       "      <th>3</th>\n",
       "      <td>94996</td>\n",
       "      <td>2019-01-01 03:00:00</td>\n",
       "    </tr>\n",
       "    <tr>\n",
       "      <th>4</th>\n",
       "      <td>94997</td>\n",
       "      <td>2019-01-01 04:00:00</td>\n",
       "    </tr>\n",
       "  </tbody>\n",
       "</table>\n",
       "</div>"
      ],
      "text/plain": [
       "   row_id             datetime\n",
       "0   94993  2019-01-01 00:00:00\n",
       "1   94994  2019-01-01 01:00:00\n",
       "2   94995  2019-01-01 02:00:00\n",
       "3   94996  2019-01-01 03:00:00\n",
       "4   94997  2019-01-01 04:00:00"
      ]
     },
     "execution_count": 90,
     "metadata": {},
     "output_type": "execute_result"
    }
   ],
   "source": [
    "B.head()"
   ]
  },
  {
   "cell_type": "code",
   "execution_count": 91,
   "id": "0d3875b6",
   "metadata": {},
   "outputs": [],
   "source": [
    "df.index = B.row_id"
   ]
  },
  {
   "cell_type": "code",
   "execution_count": 92,
   "id": "0e11367b",
   "metadata": {},
   "outputs": [
    {
     "data": {
      "text/html": [
       "<div>\n",
       "<style scoped>\n",
       "    .dataframe tbody tr th:only-of-type {\n",
       "        vertical-align: middle;\n",
       "    }\n",
       "\n",
       "    .dataframe tbody tr th {\n",
       "        vertical-align: top;\n",
       "    }\n",
       "\n",
       "    .dataframe thead tr th {\n",
       "        text-align: left;\n",
       "    }\n",
       "\n",
       "    .dataframe thead tr:last-of-type th {\n",
       "        text-align: right;\n",
       "    }\n",
       "</style>\n",
       "<table border=\"1\" class=\"dataframe\">\n",
       "  <thead>\n",
       "    <tr>\n",
       "      <th></th>\n",
       "      <th>energy</th>\n",
       "    </tr>\n",
       "    <tr>\n",
       "      <th>row_id</th>\n",
       "      <th></th>\n",
       "    </tr>\n",
       "  </thead>\n",
       "  <tbody>\n",
       "    <tr>\n",
       "      <th>94993</th>\n",
       "      <td>2061.726076</td>\n",
       "    </tr>\n",
       "    <tr>\n",
       "      <th>94994</th>\n",
       "      <td>2061.772815</td>\n",
       "    </tr>\n",
       "    <tr>\n",
       "      <th>94995</th>\n",
       "      <td>2061.816357</td>\n",
       "    </tr>\n",
       "    <tr>\n",
       "      <th>94996</th>\n",
       "      <td>2061.857630</td>\n",
       "    </tr>\n",
       "    <tr>\n",
       "      <th>94997</th>\n",
       "      <td>2061.897421</td>\n",
       "    </tr>\n",
       "    <tr>\n",
       "      <th>...</th>\n",
       "      <td>...</td>\n",
       "    </tr>\n",
       "    <tr>\n",
       "      <th>121292</th>\n",
       "      <td>2290.000849</td>\n",
       "    </tr>\n",
       "    <tr>\n",
       "      <th>121293</th>\n",
       "      <td>2290.009663</td>\n",
       "    </tr>\n",
       "    <tr>\n",
       "      <th>121294</th>\n",
       "      <td>2290.018477</td>\n",
       "    </tr>\n",
       "    <tr>\n",
       "      <th>121295</th>\n",
       "      <td>2290.027291</td>\n",
       "    </tr>\n",
       "    <tr>\n",
       "      <th>121296</th>\n",
       "      <td>2290.036105</td>\n",
       "    </tr>\n",
       "  </tbody>\n",
       "</table>\n",
       "<p>26304 rows × 1 columns</p>\n",
       "</div>"
      ],
      "text/plain": [
       "             energy\n",
       "row_id             \n",
       "94993   2061.726076\n",
       "94994   2061.772815\n",
       "94995   2061.816357\n",
       "94996   2061.857630\n",
       "94997   2061.897421\n",
       "...             ...\n",
       "121292  2290.000849\n",
       "121293  2290.009663\n",
       "121294  2290.018477\n",
       "121295  2290.027291\n",
       "121296  2290.036105\n",
       "\n",
       "[26304 rows x 1 columns]"
      ]
     },
     "execution_count": 92,
     "metadata": {},
     "output_type": "execute_result"
    }
   ],
   "source": [
    "df"
   ]
  },
  {
   "cell_type": "code",
   "execution_count": 93,
   "id": "3e0007a3",
   "metadata": {},
   "outputs": [],
   "source": [
    "df.to_csv(\"C:/Users/I A T Laptop L.L.C/Desktop/Final_submission.csv\")"
   ]
  },
  {
   "cell_type": "code",
   "execution_count": null,
   "id": "2646ceca",
   "metadata": {},
   "outputs": [],
   "source": []
  }
 ],
 "metadata": {
  "kernelspec": {
   "display_name": "Python 3",
   "language": "python",
   "name": "python3"
  },
  "language_info": {
   "codemirror_mode": {
    "name": "ipython",
    "version": 3
   },
   "file_extension": ".py",
   "mimetype": "text/x-python",
   "name": "python",
   "nbconvert_exporter": "python",
   "pygments_lexer": "ipython3",
   "version": "3.8.8"
  }
 },
 "nbformat": 4,
 "nbformat_minor": 5
}
